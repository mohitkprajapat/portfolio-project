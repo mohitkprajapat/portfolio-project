{
 "cells": [
  {
   "cell_type": "code",
   "execution_count": 8,
   "id": "04c8f003-5bc3-44b6-ab3b-8798b6c48853",
   "metadata": {},
   "outputs": [],
   "source": [
    "import pandas as pd\n",
    "import numpy as np\n",
    "import math\n",
    "\n",
    "from sklearn.preprocessing import OneHotEncoder\n",
    "from sklearn.model_selection import train_test_split\n",
    "from sklearn.metrics import accuracy_score, confusion_matrix, classification_report\n",
    "\n",
    "import torch\n",
    "from torch.utils.data import DataLoader, Dataset\n",
    "from transformers import BertModel, BertTokenizer\n",
    "\n",
    "import seaborn as sns\n",
    "import matplotlib.pyplot as plt\n",
    "\n",
    "import tensorflow as tf\n",
    "from tensorflow.keras.models import Sequential\n",
    "from tensorflow.keras.layers import Dense, Dropout, Input, BatchNormalization\n",
    "from tensorflow.keras.callbacks import EarlyStopping, ModelCheckpoint"
   ]
  },
  {
   "cell_type": "code",
   "execution_count": 3,
   "id": "2e1db57d-9ce4-4887-ab6d-5fb5dca6a137",
   "metadata": {},
   "outputs": [],
   "source": [
    "model = tf.keras.models.load_model(\"my_model_short.keras\")"
   ]
  },
  {
   "cell_type": "code",
   "execution_count": 4,
   "id": "9d0ca505-554f-4814-bfb0-e6a9a977f552",
   "metadata": {},
   "outputs": [],
   "source": [
    "test_features_file = r'loaded_test_features.npy'\n",
    "test_targets_file = r'loaded_test_targets.npy'"
   ]
  },
  {
   "cell_type": "code",
   "execution_count": 5,
   "id": "20655e4c-1d83-4380-8bc4-ae674e43aa02",
   "metadata": {},
   "outputs": [],
   "source": [
    "\n",
    "loaded_test_features = np.load(test_features_file)\n",
    "loaded_test_targets = np.load(test_targets_file)"
   ]
  },
  {
   "cell_type": "code",
   "execution_count": 6,
   "id": "15e25ca4-be80-4d07-9695-eb6e3312c044",
   "metadata": {},
   "outputs": [
    {
     "name": "stdout",
     "output_type": "stream",
     "text": [
      "\u001b[1m330/330\u001b[0m \u001b[32m━━━━━━━━━━━━━━━━━━━━\u001b[0m\u001b[37m\u001b[0m \u001b[1m1s\u001b[0m 2ms/step\n"
     ]
    }
   ],
   "source": [
    "y_pred = model.predict(loaded_test_features)"
   ]
  },
  {
   "cell_type": "code",
   "execution_count": 7,
   "id": "f275c935-1140-42c1-bce5-c0786e89d9ac",
   "metadata": {},
   "outputs": [],
   "source": [
    "y_predicted = y_pred.argmax(axis = 1)\n",
    "y_true = loaded_test_targets.argmax(axis = 1)"
   ]
  },
  {
   "cell_type": "code",
   "execution_count": 10,
   "id": "f8c6f498-ecfc-4be7-a40c-918c98cc9279",
   "metadata": {},
   "outputs": [
    {
     "name": "stdout",
     "output_type": "stream",
     "text": [
      "              precision    recall  f1-score   support\n",
      "\n",
      "           0       0.70      0.69      0.69       785\n",
      "           1       0.56      0.60      0.58       559\n",
      "           2       0.69      0.68      0.68      3071\n",
      "           3       0.90      0.93      0.92      3244\n",
      "           4       0.66      0.26      0.38       235\n",
      "           5       0.55      0.45      0.50       484\n",
      "           6       0.64      0.68      0.66      2158\n",
      "\n",
      "    accuracy                           0.73     10536\n",
      "   macro avg       0.67      0.61      0.63     10536\n",
      "weighted avg       0.73      0.73      0.73     10536\n",
      "\n"
     ]
    }
   ],
   "source": [
    "print(classification_report(y_true,y_predicted))"
   ]
  },
  {
   "cell_type": "code",
   "execution_count": null,
   "id": "8cd188d9-b87a-42bd-afbc-70654e7b782e",
   "metadata": {},
   "outputs": [],
   "source": []
  }
 ],
 "metadata": {
  "kernelspec": {
   "display_name": "Python 3 (ipykernel)",
   "language": "python",
   "name": "python3"
  },
  "language_info": {
   "codemirror_mode": {
    "name": "ipython",
    "version": 3
   },
   "file_extension": ".py",
   "mimetype": "text/x-python",
   "name": "python",
   "nbconvert_exporter": "python",
   "pygments_lexer": "ipython3",
   "version": "3.11.7"
  }
 },
 "nbformat": 4,
 "nbformat_minor": 5
}
